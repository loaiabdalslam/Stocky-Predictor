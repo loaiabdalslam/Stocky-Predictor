{
  "nbformat": 4,
  "nbformat_minor": 0,
  "metadata": {
    "colab": {
      "name": "StockPrediction.ipynb",
      "provenance": [],
      "collapsed_sections": []
    },
    "kernelspec": {
      "name": "python3",
      "display_name": "Python 3"
    }
  },
  "cells": [
    {
      "cell_type": "code",
      "metadata": {
        "id": "8wrp4u3Eblwz",
        "colab_type": "code",
        "colab": {
          "base_uri": "https://localhost:8080/",
          "height": 70
        },
        "outputId": "d14f6073-f7b7-403b-8c77-b2a2f4a5e264"
      },
      "source": [
        "from numpy import array\n",
        "from numpy import argmax\n",
        "from numpy import array_equal\n",
        "from random import randint\n",
        "from keras.utils import to_categorical\n",
        "from keras.models import Model\n",
        "from keras.layers import Input\n",
        "from keras.layers import LSTM\n",
        "from keras.layers import Dense\n",
        "import datetime as dt\n",
        "import matplotlib.pyplot as plt\n",
        "from matplotlib import style\n",
        "import pandas as pd\n",
        "import pandas_datareader.data as web\n",
        "\n",
        "style.use(\"ggplot\")"
      ],
      "execution_count": 6,
      "outputs": [
        {
          "output_type": "stream",
          "text": [
            "/usr/local/lib/python3.6/dist-packages/pandas_datareader/compat/__init__.py:7: FutureWarning: pandas.util.testing is deprecated. Use the functions in the public API at pandas.testing instead.\n",
            "  from pandas.util.testing import assert_frame_equal\n"
          ],
          "name": "stderr"
        }
      ]
    },
    {
      "cell_type": "code",
      "metadata": {
        "id": "4yPRQ5oVb3pH",
        "colab_type": "code",
        "colab": {}
      },
      "source": [
        "start = dt.datetime(2000,1,1)\n",
        "end = dt.datetime(2016,12,31)"
      ],
      "execution_count": 7,
      "outputs": []
    },
    {
      "cell_type": "code",
      "metadata": {
        "id": "kkZzbck3ckNs",
        "colab_type": "code",
        "colab": {}
      },
      "source": [
        "df = web.DataReader('TSLA','yahoo',start,end)"
      ],
      "execution_count": 45,
      "outputs": []
    },
    {
      "cell_type": "code",
      "metadata": {
        "id": "iLYYjYYAcldi",
        "colab_type": "code",
        "colab": {
          "base_uri": "https://localhost:8080/",
          "height": 166
        },
        "outputId": "49549479-3282-4caf-d91b-334aef5a48f8"
      },
      "source": [
        "df.head(3)"
      ],
      "execution_count": 46,
      "outputs": [
        {
          "output_type": "execute_result",
          "data": {
            "text/html": [
              "<div>\n",
              "<style scoped>\n",
              "    .dataframe tbody tr th:only-of-type {\n",
              "        vertical-align: middle;\n",
              "    }\n",
              "\n",
              "    .dataframe tbody tr th {\n",
              "        vertical-align: top;\n",
              "    }\n",
              "\n",
              "    .dataframe thead th {\n",
              "        text-align: right;\n",
              "    }\n",
              "</style>\n",
              "<table border=\"1\" class=\"dataframe\">\n",
              "  <thead>\n",
              "    <tr style=\"text-align: right;\">\n",
              "      <th></th>\n",
              "      <th>High</th>\n",
              "      <th>Low</th>\n",
              "      <th>Open</th>\n",
              "      <th>Close</th>\n",
              "      <th>Volume</th>\n",
              "      <th>Adj Close</th>\n",
              "    </tr>\n",
              "    <tr>\n",
              "      <th>Date</th>\n",
              "      <th></th>\n",
              "      <th></th>\n",
              "      <th></th>\n",
              "      <th></th>\n",
              "      <th></th>\n",
              "      <th></th>\n",
              "    </tr>\n",
              "  </thead>\n",
              "  <tbody>\n",
              "    <tr>\n",
              "      <th>2010-06-29</th>\n",
              "      <td>25.00</td>\n",
              "      <td>17.540001</td>\n",
              "      <td>19.000000</td>\n",
              "      <td>23.889999</td>\n",
              "      <td>18766300</td>\n",
              "      <td>23.889999</td>\n",
              "    </tr>\n",
              "    <tr>\n",
              "      <th>2010-06-30</th>\n",
              "      <td>30.42</td>\n",
              "      <td>23.299999</td>\n",
              "      <td>25.790001</td>\n",
              "      <td>23.830000</td>\n",
              "      <td>17187100</td>\n",
              "      <td>23.830000</td>\n",
              "    </tr>\n",
              "    <tr>\n",
              "      <th>2010-07-01</th>\n",
              "      <td>25.92</td>\n",
              "      <td>20.270000</td>\n",
              "      <td>25.000000</td>\n",
              "      <td>21.959999</td>\n",
              "      <td>8218800</td>\n",
              "      <td>21.959999</td>\n",
              "    </tr>\n",
              "  </tbody>\n",
              "</table>\n",
              "</div>"
            ],
            "text/plain": [
              "             High        Low       Open      Close    Volume  Adj Close\n",
              "Date                                                                   \n",
              "2010-06-29  25.00  17.540001  19.000000  23.889999  18766300  23.889999\n",
              "2010-06-30  30.42  23.299999  25.790001  23.830000  17187100  23.830000\n",
              "2010-07-01  25.92  20.270000  25.000000  21.959999   8218800  21.959999"
            ]
          },
          "metadata": {
            "tags": []
          },
          "execution_count": 46
        }
      ]
    },
    {
      "cell_type": "code",
      "metadata": {
        "id": "yLeWXDYzcm52",
        "colab_type": "code",
        "colab": {
          "base_uri": "https://localhost:8080/",
          "height": 272
        },
        "outputId": "ad62a27c-ed13-4815-824e-e469f18b9c19"
      },
      "source": [
        "df['Adj Close'].plot()\n",
        "plt.show()"
      ],
      "execution_count": 47,
      "outputs": [
        {
          "output_type": "display_data",
          "data": {
            "image/png": "[encoded data removed]",
            "text/plain": [
              "<Figure size 432x288 with 1 Axes>"
            ]
          },
          "metadata": {
            "tags": [],
            "needs_background": "light"
          }
        }
      ]
    },
    {
      "cell_type": "code",
      "metadata": {
        "id": "VgW9FHkLcqoK",
        "colab_type": "code",
        "colab": {}
      },
      "source": [
        "df['100ma'] = df ['Adj Close'].rolling(window=100,min_periods=0).mean()\n",
        "df['10ma'] = df ['Adj Close'].rolling(window=10,min_periods=0).mean()\n",
        "\n",
        "# we will take the mean from 100 but the minimum is equal 0 "
      ],
      "execution_count": 48,
      "outputs": []
    },
    {
      "cell_type": "code",
      "metadata": {
        "id": "ydg0hVPlcvlr",
        "colab_type": "code",
        "colab": {
          "base_uri": "https://localhost:8080/",
          "height": 265
        },
        "outputId": "5595ed35-d211-4b04-9887-9dc6b60d8df0"
      },
      "source": [
        "ax1 = plt.subplot2grid((6,1),(0,0),rowspan=5,colspan=1)\n",
        "ax2 = plt.subplot2grid((6,1),(5,0),rowspan=5,colspan=1)\n",
        "ax1.plot(df.index,df['Adj Close'])\n",
        "ax1.plot(df.index,df['100ma'])\n",
        "ax2.bar(df.index,df['Volume'])\n",
        "plt.show()"
      ],
      "execution_count": 49,
      "outputs": [
        {
          "output_type": "display_data",
          "data": {
            "image/png": "[encoded data removed]",
            "text/plain": [
              "<Figure size 432x288 with 2 Axes>"
            ]
          },
          "metadata": {
            "tags": [],
            "needs_background": "light"
          }
        }
      ]
    },
    {
      "cell_type": "code",
      "metadata": {
        "id": "J2wGZfwZczF8",
        "colab_type": "code",
        "colab": {
          "base_uri": "https://localhost:8080/",
          "height": 265
        },
        "outputId": "6c5b56dd-6b6e-4037-bd43-088497e70a0a"
      },
      "source": [
        "ax1 = plt.subplot2grid((6,1),(0,0),rowspan=5,colspan=1)\n",
        "ax2 = plt.subplot2grid((6,1),(5,0),rowspan=5,colspan=1)\n",
        "ax1.plot(df.index,df['Adj Close'])\n",
        "ax1.plot(df.index,df['10ma'])\n",
        "ax2.bar(df.index,df['Volume'])\n",
        "plt.show()"
      ],
      "execution_count": 50,
      "outputs": [
        {
          "output_type": "display_data",
          "data": {
            "image/png": "[encoded data removed]",
            "text/plain": [
              "<Figure size 432x288 with 2 Axes>"
            ]
          },
          "metadata": {
            "tags": [],
            "needs_background": "light"
          }
        }
      ]
    },
    {
      "cell_type": "code",
      "metadata": {
        "id": "p-TPjscrc1Um",
        "colab_type": "code",
        "colab": {
          "base_uri": "https://localhost:8080/",
          "height": 225
        },
        "outputId": "7535305e-52e8-47cb-cec2-2e2df75caa10"
      },
      "source": [
        "df.head()"
      ],
      "execution_count": 51,
      "outputs": [
        {
          "output_type": "execute_result",
          "data": {
            "text/html": [
              "<div>\n",
              "<style scoped>\n",
              "    .dataframe tbody tr th:only-of-type {\n",
              "        vertical-align: middle;\n",
              "    }\n",
              "\n",
              "    .dataframe tbody tr th {\n",
              "        vertical-align: top;\n",
              "    }\n",
              "\n",
              "    .dataframe thead th {\n",
              "        text-align: right;\n",
              "    }\n",
              "</style>\n",
              "<table border=\"1\" class=\"dataframe\">\n",
              "  <thead>\n",
              "    <tr style=\"text-align: right;\">\n",
              "      <th></th>\n",
              "      <th>High</th>\n",
              "      <th>Low</th>\n",
              "      <th>Open</th>\n",
              "      <th>Close</th>\n",
              "      <th>Volume</th>\n",
              "      <th>Adj Close</th>\n",
              "      <th>100ma</th>\n",
              "      <th>10ma</th>\n",
              "    </tr>\n",
              "    <tr>\n",
              "      <th>Date</th>\n",
              "      <th></th>\n",
              "      <th></th>\n",
              "      <th></th>\n",
              "      <th></th>\n",
              "      <th></th>\n",
              "      <th></th>\n",
              "      <th></th>\n",
              "      <th></th>\n",
              "    </tr>\n",
              "  </thead>\n",
              "  <tbody>\n",
              "    <tr>\n",
              "      <th>2010-06-29</th>\n",
              "      <td>25.00</td>\n",
              "      <td>17.540001</td>\n",
              "      <td>19.000000</td>\n",
              "      <td>23.889999</td>\n",
              "      <td>18766300</td>\n",
              "      <td>23.889999</td>\n",
              "      <td>23.889999</td>\n",
              "      <td>23.889999</td>\n",
              "    </tr>\n",
              "    <tr>\n",
              "      <th>2010-06-30</th>\n",
              "      <td>30.42</td>\n",
              "      <td>23.299999</td>\n",
              "      <td>25.790001</td>\n",
              "      <td>23.830000</td>\n",
              "      <td>17187100</td>\n",
              "      <td>23.830000</td>\n",
              "      <td>23.860000</td>\n",
              "      <td>23.860000</td>\n",
              "    </tr>\n",
              "    <tr>\n",
              "      <th>2010-07-01</th>\n",
              "      <td>25.92</td>\n",
              "      <td>20.270000</td>\n",
              "      <td>25.000000</td>\n",
              "      <td>21.959999</td>\n",
              "      <td>8218800</td>\n",
              "      <td>21.959999</td>\n",
              "      <td>23.226666</td>\n",
              "      <td>23.226666</td>\n",
              "    </tr>\n",
              "    <tr>\n",
              "      <th>2010-07-02</th>\n",
              "      <td>23.10</td>\n",
              "      <td>18.709999</td>\n",
              "      <td>23.000000</td>\n",
              "      <td>19.200001</td>\n",
              "      <td>5139800</td>\n",
              "      <td>19.200001</td>\n",
              "      <td>22.220000</td>\n",
              "      <td>22.220000</td>\n",
              "    </tr>\n",
              "    <tr>\n",
              "      <th>2010-07-06</th>\n",
              "      <td>20.00</td>\n",
              "      <td>15.830000</td>\n",
              "      <td>20.000000</td>\n",
              "      <td>16.110001</td>\n",
              "      <td>6866900</td>\n",
              "      <td>16.110001</td>\n",
              "      <td>20.998000</td>\n",
              "      <td>20.998000</td>\n",
              "    </tr>\n",
              "  </tbody>\n",
              "</table>\n",
              "</div>"
            ],
            "text/plain": [
              "             High        Low       Open  ...  Adj Close      100ma       10ma\n",
              "Date                                     ...                                 \n",
              "2010-06-29  25.00  17.540001  19.000000  ...  23.889999  23.889999  23.889999\n",
              "2010-06-30  30.42  23.299999  25.790001  ...  23.830000  23.860000  23.860000\n",
              "2010-07-01  25.92  20.270000  25.000000  ...  21.959999  23.226666  23.226666\n",
              "2010-07-02  23.10  18.709999  23.000000  ...  19.200001  22.220000  22.220000\n",
              "2010-07-06  20.00  15.830000  20.000000  ...  16.110001  20.998000  20.998000\n",
              "\n",
              "[5 rows x 8 columns]"
            ]
          },
          "metadata": {
            "tags": []
          },
          "execution_count": 51
        }
      ]
    },
    {
      "cell_type": "code",
      "metadata": {
        "id": "xphsn5T4c-rO",
        "colab_type": "code",
        "colab": {
          "base_uri": "https://localhost:8080/",
          "height": 34
        },
        "outputId": "ed1d6acf-9756-4708-9089-1456f1eddbd2"
      },
      "source": [
        "df.shape"
      ],
      "execution_count": 52,
      "outputs": [
        {
          "output_type": "execute_result",
          "data": {
            "text/plain": [
              "(1640, 8)"
            ]
          },
          "metadata": {
            "tags": []
          },
          "execution_count": 52
        }
      ]
    },
    {
      "cell_type": "markdown",
      "metadata": {
        "id": "D7pFsuiGiZUF",
        "colab_type": "text"
      },
      "source": [
        "## in Day Predict Adj Close \n",
        "- input : open - low - high \n",
        "- output : Adj Close"
      ]
    },
    {
      "cell_type": "code",
      "metadata": {
        "id": "5GkTtB1od1Eo",
        "colab_type": "code",
        "colab": {}
      },
      "source": [
        "import pandas as pd  \n",
        "import numpy as np  \n",
        "import matplotlib.pyplot as plt  \n",
        "import seaborn as seabornInstance \n",
        "from sklearn.model_selection import train_test_split \n",
        "from sklearn.linear_model import LinearRegression\n",
        "from sklearn import metrics\n",
        "%matplotlib inline"
      ],
      "execution_count": 53,
      "outputs": []
    },
    {
      "cell_type": "code",
      "metadata": {
        "id": "nnVptT0LfOPm",
        "colab_type": "code",
        "colab": {}
      },
      "source": [
        "X=df.iloc[:,[0,1,2,4]].values\n",
        "y=df.iloc[:,[5]].values"
      ],
      "execution_count": 56,
      "outputs": []
    },
    {
      "cell_type": "code",
      "metadata": {
        "id": "fFf__4Ivfa-K",
        "colab_type": "code",
        "colab": {}
      },
      "source": [
        "X_train, X_test, y_train, y_test = train_test_split(X, y, test_size=0.2, random_state=0)"
      ],
      "execution_count": 57,
      "outputs": []
    },
    {
      "cell_type": "code",
      "metadata": {
        "id": "e1F4u_vjfqJE",
        "colab_type": "code",
        "colab": {
          "base_uri": "https://localhost:8080/",
          "height": 34
        },
        "outputId": "5e5894df-2bc9-49d8-8a44-227051fc27a9"
      },
      "source": [
        "regressor = LinearRegression()  \n",
        "regressor.fit(X_train, y_train) #training the algorithm"
      ],
      "execution_count": 58,
      "outputs": [
        {
          "output_type": "execute_result",
          "data": {
            "text/plain": [
              "LinearRegression(copy_X=True, fit_intercept=True, n_jobs=None, normalize=False)"
            ]
          },
          "metadata": {
            "tags": []
          },
          "execution_count": 58
        }
      ]
    },
    {
      "cell_type": "code",
      "metadata": {
        "id": "of6iTWugfr36",
        "colab_type": "code",
        "colab": {
          "base_uri": "https://localhost:8080/",
          "height": 50
        },
        "outputId": "db6e7c0b-edc8-43dc-e4ec-576276f013ce"
      },
      "source": [
        "#To retrieve the intercept:\n",
        "print(regressor.intercept_)\n",
        "#For retrieving the slope:\n",
        "print(regressor.coef_)"
      ],
      "execution_count": 59,
      "outputs": [
        {
          "output_type": "stream",
          "text": [
            "[0.01615124]\n",
            "[[ 8.21431768e-01  7.23261445e-01 -5.45014270e-01 -3.14262395e-08]]\n"
          ],
          "name": "stdout"
        }
      ]
    },
    {
      "cell_type": "code",
      "metadata": {
        "id": "b42hOQHFft6K",
        "colab_type": "code",
        "colab": {}
      },
      "source": [
        "y_pred = regressor.predict(X_test)\n"
      ],
      "execution_count": 60,
      "outputs": []
    },
    {
      "cell_type": "code",
      "metadata": {
        "id": "nazz9bugfzGJ",
        "colab_type": "code",
        "colab": {
          "base_uri": "https://localhost:8080/",
          "height": 402
        },
        "outputId": "d9d852a8-0588-4001-d2d1-a8b0997aae12"
      },
      "source": [
        "df = pd.DataFrame({'Actual': y_test.flatten(), 'Predicted': y_pred.flatten()})\n",
        "df"
      ],
      "execution_count": 61,
      "outputs": [
        {
          "output_type": "execute_result",
          "data": {
            "text/html": [
              "<div>\n",
              "<style scoped>\n",
              "    .dataframe tbody tr th:only-of-type {\n",
              "        vertical-align: middle;\n",
              "    }\n",
              "\n",
              "    .dataframe tbody tr th {\n",
              "        vertical-align: top;\n",
              "    }\n",
              "\n",
              "    .dataframe thead th {\n",
              "        text-align: right;\n",
              "    }\n",
              "</style>\n",
              "<table border=\"1\" class=\"dataframe\">\n",
              "  <thead>\n",
              "    <tr style=\"text-align: right;\">\n",
              "      <th></th>\n",
              "      <th>Actual</th>\n",
              "      <th>Predicted</th>\n",
              "    </tr>\n",
              "  </thead>\n",
              "  <tbody>\n",
              "    <tr>\n",
              "      <th>0</th>\n",
              "      <td>206.429993</td>\n",
              "      <td>204.538773</td>\n",
              "    </tr>\n",
              "    <tr>\n",
              "      <th>1</th>\n",
              "      <td>245.570007</td>\n",
              "      <td>246.773605</td>\n",
              "    </tr>\n",
              "    <tr>\n",
              "      <th>2</th>\n",
              "      <td>210.240005</td>\n",
              "      <td>208.612243</td>\n",
              "    </tr>\n",
              "    <tr>\n",
              "      <th>3</th>\n",
              "      <td>188.770004</td>\n",
              "      <td>189.811880</td>\n",
              "    </tr>\n",
              "    <tr>\n",
              "      <th>4</th>\n",
              "      <td>29.110001</td>\n",
              "      <td>29.488230</td>\n",
              "    </tr>\n",
              "    <tr>\n",
              "      <th>...</th>\n",
              "      <td>...</td>\n",
              "      <td>...</td>\n",
              "    </tr>\n",
              "    <tr>\n",
              "      <th>323</th>\n",
              "      <td>218.360001</td>\n",
              "      <td>217.478902</td>\n",
              "    </tr>\n",
              "    <tr>\n",
              "      <th>324</th>\n",
              "      <td>104.629997</td>\n",
              "      <td>103.326391</td>\n",
              "    </tr>\n",
              "    <tr>\n",
              "      <th>325</th>\n",
              "      <td>219.610001</td>\n",
              "      <td>220.682986</td>\n",
              "    </tr>\n",
              "    <tr>\n",
              "      <th>326</th>\n",
              "      <td>223.429993</td>\n",
              "      <td>222.038743</td>\n",
              "    </tr>\n",
              "    <tr>\n",
              "      <th>327</th>\n",
              "      <td>19.590000</td>\n",
              "      <td>19.716177</td>\n",
              "    </tr>\n",
              "  </tbody>\n",
              "</table>\n",
              "<p>328 rows × 2 columns</p>\n",
              "</div>"
            ],
            "text/plain": [
              "         Actual   Predicted\n",
              "0    206.429993  204.538773\n",
              "1    245.570007  246.773605\n",
              "2    210.240005  208.612243\n",
              "3    188.770004  189.811880\n",
              "4     29.110001   29.488230\n",
              "..          ...         ...\n",
              "323  218.360001  217.478902\n",
              "324  104.629997  103.326391\n",
              "325  219.610001  220.682986\n",
              "326  223.429993  222.038743\n",
              "327   19.590000   19.716177\n",
              "\n",
              "[328 rows x 2 columns]"
            ]
          },
          "metadata": {
            "tags": []
          },
          "execution_count": 61
        }
      ]
    },
    {
      "cell_type": "code",
      "metadata": {
        "id": "-uCVvRfHf1Em",
        "colab_type": "code",
        "colab": {
          "base_uri": "https://localhost:8080/",
          "height": 594
        },
        "outputId": "470134e7-07a2-4b3b-c5ce-fb5f84727b6c"
      },
      "source": [
        "df1 = df.head(25)\n",
        "df1.plot(kind='bar',figsize=(16,10))\n",
        "plt.grid(which='major', linestyle='-', linewidth='0.5', color='green')\n",
        "plt.grid(which='minor', linestyle=':', linewidth='0.5', color='black')\n",
        "plt.show()"
      ],
      "execution_count": 62,
      "outputs": [
        {
          "output_type": "display_data",
          "data": {
            "image/png": "[encoded data removed]",
            "text/plain": [
              "<Figure size 1152x720 with 1 Axes>"
            ]
          },
          "metadata": {
            "tags": [],
            "needs_background": "light"
          }
        }
      ]
    },
    {
      "cell_type": "code",
      "metadata": {
        "id": "WdhDfai0f6_1",
        "colab_type": "code",
        "colab": {
          "base_uri": "https://localhost:8080/",
          "height": 67
        },
        "outputId": "6b7ac545-590b-4f8e-8aeb-7431b1699529"
      },
      "source": [
        "print('Mean Absolute Error:', metrics.mean_absolute_error(y_test, y_pred))  \n",
        "print('Mean Squared Error:', metrics.mean_squared_error(y_test, y_pred))  \n",
        "print('Root Mean Squared Error:', np.sqrt(metrics.mean_squared_error(y_test, y_pred)))"
      ],
      "execution_count": 63,
      "outputs": [
        {
          "output_type": "stream",
          "text": [
            "Mean Absolute Error: 1.0195992289108535\n",
            "Mean Squared Error: 2.294371817776482\n",
            "Root Mean Squared Error: 1.5147183955364383\n"
          ],
          "name": "stdout"
        }
      ]
    },
    {
      "cell_type": "markdown",
      "metadata": {
        "id": "hCmtwWfMip8r",
        "colab_type": "text"
      },
      "source": [
        "# LSTM Predict Next Day Stock Prediction"
      ]
    },
    {
      "cell_type": "code",
      "metadata": {
        "id": "2DAinTExjZR9",
        "colab_type": "code",
        "colab": {}
      },
      "source": [
        "import pandas as pd\n",
        "import numpy as np\n",
        "from numpy import array\n",
        "from numpy import argmax\n",
        "from keras.layers.core import Dense, Activation, Dropout\n",
        "from keras.preprocessing import sequence\n",
        "from keras.models import Sequential\n",
        "from keras.layers import Dense, Embedding\n",
        "from keras.layers import LSTM"
      ],
      "execution_count": 69,
      "outputs": []
    },
    {
      "cell_type": "code",
      "metadata": {
        "id": "4uqsARhrjqQT",
        "colab_type": "code",
        "colab": {}
      },
      "source": [
        "class TimeFrameRNN:\n",
        "    \n",
        "    def __init__(self,sequence=[],n_steps=4,past=False):\n",
        "        self.past = past\n",
        "        self.sequence =sequence\n",
        "        self.n_steps = n_steps\n",
        "        self.data = self.split_sequence(sequence,n_steps)\n",
        "        \n",
        "\n",
        "    def reversed_it(self,sequence):\n",
        "        if self.past==True:\n",
        "            array = list()\n",
        "            for item in reversed(sequence):\n",
        "                array.append(item)\n",
        "            return array\n",
        "        else:\n",
        "            return sequence\n",
        "            \n",
        "    def split_sequence(self,sequence, n_steps):\n",
        "            sequence = self.reversed_it(sequence)\n",
        "            X, y = list(), list()\n",
        "            for i in range(len(sequence)):\n",
        "                # find the end of this pattern\n",
        "                end_ix = i + n_steps\n",
        "                # check if we are beyond the sequence\n",
        "                if end_ix > len(sequence)-1:\n",
        "                    break\n",
        "                    # gather input and output parts of the pattern\n",
        "                seq_x, seq_y = sequence[i:end_ix], sequence[end_ix]\n",
        "                X.append(seq_x)\n",
        "                y.append(seq_y)\n",
        "            return array(X), array(y)\n",
        "        \n",
        "    def get_data(self):\n",
        "        return self.split_sequence(self.sequence,self.n_steps)\n",
        "    \n",
        "    def get_target(self):\n",
        "        return self.get_data()[1]\n",
        "    \n",
        "    def reshape_X(self,n_features):\n",
        "        # reshape from [samples, timesteps] into [samples, timesteps, features]\n",
        "        X = self.get_data()[0]\n",
        "        X = X.reshape((X.shape[0], X.shape[1], n_features))\n",
        "        return X\n",
        "    \n",
        "        "
      ],
      "execution_count": 70,
      "outputs": []
    },
    {
      "cell_type": "code",
      "metadata": {
        "id": "vxRCdcQalcJN",
        "colab_type": "code",
        "colab": {}
      },
      "source": [
        "n_steps = 3\n",
        "n_features = 1\n",
        "\n",
        "PTS =  TimeFrameRNN(y,n_steps,False)\n",
        "X_train = PTS.reshape_X(n_features)\n",
        "y_train = PTS.get_target()    "
      ],
      "execution_count": 87,
      "outputs": []
    },
    {
      "cell_type": "code",
      "metadata": {
        "id": "syJuy27Ul_CS",
        "colab_type": "code",
        "colab": {
          "base_uri": "https://localhost:8080/",
          "height": 218
        },
        "outputId": "6f9e8d96-17e6-423b-8b54-e6bad3c72d9a"
      },
      "source": [
        "model = Sequential()\n",
        "model.add(LSTM(50, activation='relu', input_shape=(n_steps, n_features)))\n",
        "model.add(Dense(1))\n",
        "model.compile(optimizer='adam', loss='mse')\n",
        "model.summary()"
      ],
      "execution_count": 91,
      "outputs": [
        {
          "output_type": "stream",
          "text": [
            "Model: \"sequential_4\"\n",
            "_________________________________________________________________\n",
            "Layer (type)                 Output Shape              Param #   \n",
            "=================================================================\n",
            "lstm_8 (LSTM)                (None, 50)                10400     \n",
            "_________________________________________________________________\n",
            "dense_6 (Dense)              (None, 1)                 51        \n",
            "=================================================================\n",
            "Total params: 10,451\n",
            "Trainable params: 10,451\n",
            "Non-trainable params: 0\n",
            "_________________________________________________________________\n"
          ],
          "name": "stdout"
        }
      ]
    },
    {
      "cell_type": "code",
      "metadata": {
        "id": "6XC3MyntpoUR",
        "colab_type": "code",
        "colab": {
          "base_uri": "https://localhost:8080/",
          "height": 1000
        },
        "outputId": "0934b1c7-b92e-465b-a3d8-cfc60774aa4b"
      },
      "source": [
        "model.fit(X_train, y_train, epochs=200, verbose=2)"
      ],
      "execution_count": 92,
      "outputs": [
        {
          "output_type": "stream",
          "text": [
            "Epoch 1/200\n",
            " - 0s - loss: 9733.3157\n",
            "Epoch 2/200\n",
            " - 0s - loss: 40.5265\n",
            "Epoch 3/200\n",
            " - 0s - loss: 33.4307\n",
            "Epoch 4/200\n",
            " - 0s - loss: 32.9877\n",
            "Epoch 5/200\n",
            " - 0s - loss: 32.6455\n",
            "Epoch 6/200\n",
            " - 0s - loss: 32.7476\n",
            "Epoch 7/200\n",
            " - 0s - loss: 31.3555\n",
            "Epoch 8/200\n",
            " - 0s - loss: 29.4277\n",
            "Epoch 9/200\n",
            " - 0s - loss: 24.9188\n",
            "Epoch 10/200\n",
            " - 0s - loss: 24.8799\n",
            "Epoch 11/200\n",
            " - 0s - loss: 22.2575\n",
            "Epoch 12/200\n",
            " - 0s - loss: 21.8480\n",
            "Epoch 13/200\n",
            " - 0s - loss: 22.3471\n",
            "Epoch 14/200\n",
            " - 0s - loss: 21.5049\n",
            "Epoch 15/200\n",
            " - 0s - loss: 22.3158\n",
            "Epoch 16/200\n",
            " - 0s - loss: 21.1066\n",
            "Epoch 17/200\n",
            " - 0s - loss: 21.6085\n",
            "Epoch 18/200\n",
            " - 0s - loss: 20.9798\n",
            "Epoch 19/200\n",
            " - 0s - loss: 22.2518\n",
            "Epoch 20/200\n",
            " - 0s - loss: 22.3154\n",
            "Epoch 21/200\n",
            " - 0s - loss: 20.9259\n",
            "Epoch 22/200\n",
            " - 0s - loss: 22.3846\n",
            "Epoch 23/200\n",
            " - 0s - loss: 20.8139\n",
            "Epoch 24/200\n",
            " - 0s - loss: 21.5269\n",
            "Epoch 25/200\n",
            " - 0s - loss: 22.3137\n",
            "Epoch 26/200\n",
            " - 0s - loss: 21.5101\n",
            "Epoch 27/200\n",
            " - 0s - loss: 23.2699\n",
            "Epoch 28/200\n",
            " - 0s - loss: 21.0199\n",
            "Epoch 29/200\n",
            " - 0s - loss: 20.9209\n",
            "Epoch 30/200\n",
            " - 0s - loss: 21.1477\n",
            "Epoch 31/200\n",
            " - 0s - loss: 22.5941\n",
            "Epoch 32/200\n",
            " - 0s - loss: 21.8044\n",
            "Epoch 33/200\n",
            " - 0s - loss: 20.6906\n",
            "Epoch 34/200\n",
            " - 0s - loss: 20.7870\n",
            "Epoch 35/200\n",
            " - 0s - loss: 20.5231\n",
            "Epoch 36/200\n",
            " - 0s - loss: 22.0916\n",
            "Epoch 37/200\n",
            " - 0s - loss: 21.6564\n",
            "Epoch 38/200\n",
            " - 0s - loss: 21.4691\n",
            "Epoch 39/200\n",
            " - 0s - loss: 21.7595\n",
            "Epoch 40/200\n",
            " - 0s - loss: 20.4816\n",
            "Epoch 41/200\n",
            " - 0s - loss: 20.9454\n",
            "Epoch 42/200\n",
            " - 0s - loss: 22.3408\n",
            "Epoch 43/200\n",
            " - 0s - loss: 21.0667\n",
            "Epoch 44/200\n",
            " - 0s - loss: 23.5571\n",
            "Epoch 45/200\n",
            " - 0s - loss: 21.9643\n",
            "Epoch 46/200\n",
            " - 0s - loss: 22.1268\n",
            "Epoch 47/200\n",
            " - 0s - loss: 22.1554\n",
            "Epoch 48/200\n",
            " - 0s - loss: 21.3502\n",
            "Epoch 49/200\n",
            " - 0s - loss: 21.1508\n",
            "Epoch 50/200\n",
            " - 0s - loss: 20.7814\n",
            "Epoch 51/200\n",
            " - 0s - loss: 20.3993\n",
            "Epoch 52/200\n",
            " - 0s - loss: 21.6339\n",
            "Epoch 53/200\n",
            " - 0s - loss: 21.3073\n",
            "Epoch 54/200\n",
            " - 0s - loss: 20.6965\n",
            "Epoch 55/200\n",
            " - 0s - loss: 20.5723\n",
            "Epoch 56/200\n",
            " - 0s - loss: 20.8320\n",
            "Epoch 57/200\n",
            " - 0s - loss: 20.2705\n",
            "Epoch 58/200\n",
            " - 0s - loss: 20.7344\n",
            "Epoch 59/200\n",
            " - 0s - loss: 22.5255\n",
            "Epoch 60/200\n",
            " - 0s - loss: 21.3662\n",
            "Epoch 61/200\n",
            " - 0s - loss: 20.5989\n",
            "Epoch 62/200\n",
            " - 0s - loss: 21.5031\n",
            "Epoch 63/200\n",
            " - 0s - loss: 21.3845\n",
            "Epoch 64/200\n",
            " - 0s - loss: 20.7247\n",
            "Epoch 65/200\n",
            " - 0s - loss: 20.8731\n",
            "Epoch 66/200\n",
            " - 0s - loss: 22.0654\n",
            "Epoch 67/200\n",
            " - 0s - loss: 24.1875\n",
            "Epoch 68/200\n",
            " - 0s - loss: 21.2868\n",
            "Epoch 69/200\n",
            " - 0s - loss: 21.3177\n",
            "Epoch 70/200\n",
            " - 0s - loss: 21.0921\n",
            "Epoch 71/200\n",
            " - 0s - loss: 20.6266\n",
            "Epoch 72/200\n",
            " - 0s - loss: 20.8780\n",
            "Epoch 73/200\n",
            " - 0s - loss: 20.7646\n",
            "Epoch 74/200\n",
            " - 0s - loss: 22.1533\n",
            "Epoch 75/200\n",
            " - 0s - loss: 21.2983\n",
            "Epoch 76/200\n",
            " - 0s - loss: 21.3159\n",
            "Epoch 77/200\n",
            " - 0s - loss: 21.0132\n",
            "Epoch 78/200\n",
            " - 0s - loss: 22.0882\n",
            "Epoch 79/200\n",
            " - 0s - loss: 20.5389\n",
            "Epoch 80/200\n",
            " - 0s - loss: 21.7395\n",
            "Epoch 81/200\n",
            " - 0s - loss: 20.9111\n",
            "Epoch 82/200\n",
            " - 0s - loss: 20.3075\n",
            "Epoch 83/200\n",
            " - 0s - loss: 20.3648\n",
            "Epoch 84/200\n",
            " - 0s - loss: 21.7324\n",
            "Epoch 85/200\n",
            " - 0s - loss: 22.4346\n",
            "Epoch 86/200\n",
            " - 0s - loss: 20.3695\n",
            "Epoch 87/200\n",
            " - 0s - loss: 20.1570\n",
            "Epoch 88/200\n",
            " - 0s - loss: 20.5614\n",
            "Epoch 89/200\n",
            " - 0s - loss: 20.9748\n",
            "Epoch 90/200\n",
            " - 0s - loss: 20.6196\n",
            "Epoch 91/200\n",
            " - 0s - loss: 24.9745\n",
            "Epoch 92/200\n",
            " - 0s - loss: 20.8555\n",
            "Epoch 93/200\n",
            " - 0s - loss: 20.4131\n",
            "Epoch 94/200\n",
            " - 0s - loss: 20.2865\n",
            "Epoch 95/200\n",
            " - 0s - loss: 22.3269\n",
            "Epoch 96/200\n",
            " - 0s - loss: 21.9129\n",
            "Epoch 97/200\n",
            " - 0s - loss: 20.7438\n",
            "Epoch 98/200\n",
            " - 0s - loss: 22.3126\n",
            "Epoch 99/200\n",
            " - 0s - loss: 21.9760\n",
            "Epoch 100/200\n",
            " - 0s - loss: 22.7274\n",
            "Epoch 101/200\n",
            " - 0s - loss: 20.5501\n",
            "Epoch 102/200\n",
            " - 0s - loss: 20.6934\n",
            "Epoch 103/200\n",
            " - 0s - loss: 21.5261\n",
            "Epoch 104/200\n",
            " - 0s - loss: 27.1293\n",
            "Epoch 105/200\n",
            " - 0s - loss: 21.8146\n",
            "Epoch 106/200\n",
            " - 0s - loss: 21.8798\n",
            "Epoch 107/200\n",
            " - 0s - loss: 20.5683\n",
            "Epoch 108/200\n",
            " - 0s - loss: 21.1883\n",
            "Epoch 109/200\n",
            " - 0s - loss: 21.4753\n",
            "Epoch 110/200\n",
            " - 0s - loss: 21.0490\n",
            "Epoch 111/200\n",
            " - 0s - loss: 20.8244\n",
            "Epoch 112/200\n",
            " - 0s - loss: 21.5714\n",
            "Epoch 113/200\n",
            " - 0s - loss: 21.4000\n",
            "Epoch 114/200\n",
            " - 0s - loss: 22.2494\n",
            "Epoch 115/200\n",
            " - 0s - loss: 20.3169\n",
            "Epoch 116/200\n",
            " - 0s - loss: 20.9596\n",
            "Epoch 117/200\n",
            " - 0s - loss: 20.5141\n",
            "Epoch 118/200\n",
            " - 0s - loss: 20.9346\n",
            "Epoch 119/200\n",
            " - 0s - loss: 20.0082\n",
            "Epoch 120/200\n",
            " - 0s - loss: 21.1403\n",
            "Epoch 121/200\n",
            " - 0s - loss: 21.9231\n",
            "Epoch 122/200\n",
            " - 0s - loss: 21.5321\n",
            "Epoch 123/200\n",
            " - 0s - loss: 21.0888\n",
            "Epoch 124/200\n",
            " - 0s - loss: 20.8260\n",
            "Epoch 125/200\n",
            " - 0s - loss: 21.4352\n",
            "Epoch 126/200\n",
            " - 0s - loss: 20.5846\n",
            "Epoch 127/200\n",
            " - 0s - loss: 22.2929\n",
            "Epoch 128/200\n",
            " - 0s - loss: 20.2294\n",
            "Epoch 129/200\n",
            " - 0s - loss: 20.4818\n",
            "Epoch 130/200\n",
            " - 0s - loss: 21.2906\n",
            "Epoch 131/200\n",
            " - 0s - loss: 21.2215\n",
            "Epoch 132/200\n",
            " - 0s - loss: 21.8820\n",
            "Epoch 133/200\n",
            " - 0s - loss: 21.5332\n",
            "Epoch 134/200\n",
            " - 0s - loss: 22.3566\n",
            "Epoch 135/200\n",
            " - 0s - loss: 24.4681\n",
            "Epoch 136/200\n",
            " - 0s - loss: 29.3189\n",
            "Epoch 137/200\n",
            " - 0s - loss: 20.9394\n",
            "Epoch 138/200\n",
            " - 0s - loss: 21.4048\n",
            "Epoch 139/200\n",
            " - 0s - loss: 21.1513\n",
            "Epoch 140/200\n",
            " - 0s - loss: 20.5537\n",
            "Epoch 141/200\n",
            " - 0s - loss: 20.7667\n",
            "Epoch 142/200\n",
            " - 0s - loss: 27.9503\n",
            "Epoch 143/200\n",
            " - 0s - loss: 21.1146\n",
            "Epoch 144/200\n",
            " - 0s - loss: 20.1046\n",
            "Epoch 145/200\n",
            " - 0s - loss: 21.9175\n",
            "Epoch 146/200\n",
            " - 0s - loss: 24.0673\n",
            "Epoch 147/200\n",
            " - 0s - loss: 20.8498\n",
            "Epoch 148/200\n",
            " - 0s - loss: 21.9229\n",
            "Epoch 149/200\n",
            " - 0s - loss: 21.7755\n",
            "Epoch 150/200\n",
            " - 0s - loss: 21.6792\n",
            "Epoch 151/200\n",
            " - 0s - loss: 21.3057\n",
            "Epoch 152/200\n",
            " - 0s - loss: 20.9326\n",
            "Epoch 153/200\n",
            " - 0s - loss: 20.9149\n",
            "Epoch 154/200\n",
            " - 0s - loss: 23.3632\n",
            "Epoch 155/200\n",
            " - 0s - loss: 21.8926\n",
            "Epoch 156/200\n",
            " - 0s - loss: 20.8927\n",
            "Epoch 157/200\n",
            " - 0s - loss: 20.2542\n",
            "Epoch 158/200\n",
            " - 0s - loss: 20.8053\n",
            "Epoch 159/200\n",
            " - 0s - loss: 22.5650\n",
            "Epoch 160/200\n",
            " - 0s - loss: 21.1288\n",
            "Epoch 161/200\n",
            " - 0s - loss: 21.2746\n",
            "Epoch 162/200\n",
            " - 0s - loss: 20.0483\n",
            "Epoch 163/200\n",
            " - 0s - loss: 20.2610\n",
            "Epoch 164/200\n",
            " - 0s - loss: 20.1238\n",
            "Epoch 165/200\n",
            " - 0s - loss: 20.4941\n",
            "Epoch 166/200\n",
            " - 0s - loss: 20.2393\n",
            "Epoch 167/200\n",
            " - 0s - loss: 21.5215\n",
            "Epoch 168/200\n",
            " - 0s - loss: 22.3924\n",
            "Epoch 169/200\n",
            " - 0s - loss: 21.3279\n",
            "Epoch 170/200\n",
            " - 0s - loss: 21.9844\n",
            "Epoch 171/200\n",
            " - 0s - loss: 20.2464\n",
            "Epoch 172/200\n",
            " - 0s - loss: 20.0823\n",
            "Epoch 173/200\n",
            " - 0s - loss: 21.2093\n",
            "Epoch 174/200\n",
            " - 0s - loss: 20.9683\n",
            "Epoch 175/200\n",
            " - 0s - loss: 21.0203\n",
            "Epoch 176/200\n",
            " - 0s - loss: 21.1444\n",
            "Epoch 177/200\n",
            " - 0s - loss: 24.8687\n",
            "Epoch 178/200\n",
            " - 0s - loss: 21.6341\n",
            "Epoch 179/200\n",
            " - 0s - loss: 20.3985\n",
            "Epoch 180/200\n",
            " - 0s - loss: 19.8421\n",
            "Epoch 181/200\n",
            " - 0s - loss: 21.9631\n",
            "Epoch 182/200\n",
            " - 0s - loss: 21.3431\n",
            "Epoch 183/200\n",
            " - 0s - loss: 20.3295\n",
            "Epoch 184/200\n",
            " - 0s - loss: 20.5780\n",
            "Epoch 185/200\n",
            " - 0s - loss: 21.5364\n",
            "Epoch 186/200\n",
            " - 0s - loss: 20.1910\n",
            "Epoch 187/200\n",
            " - 0s - loss: 21.0658\n",
            "Epoch 188/200\n",
            " - 0s - loss: 20.4937\n",
            "Epoch 189/200\n",
            " - 0s - loss: 21.2768\n",
            "Epoch 190/200\n",
            " - 0s - loss: 20.1325\n",
            "Epoch 191/200\n",
            " - 0s - loss: 22.6915\n",
            "Epoch 192/200\n",
            " - 0s - loss: 19.9446\n",
            "Epoch 193/200\n",
            " - 0s - loss: 20.4311\n",
            "Epoch 194/200\n",
            " - 0s - loss: 21.5188\n",
            "Epoch 195/200\n",
            " - 0s - loss: 21.8169\n",
            "Epoch 196/200\n",
            " - 0s - loss: 21.3456\n",
            "Epoch 197/200\n",
            " - 0s - loss: 19.9466\n",
            "Epoch 198/200\n",
            " - 0s - loss: 23.3096\n",
            "Epoch 199/200\n",
            " - 0s - loss: 21.9930\n",
            "Epoch 200/200\n",
            " - 0s - loss: 21.3088\n"
          ],
          "name": "stdout"
        },
        {
          "output_type": "execute_result",
          "data": {
            "text/plain": [
              "<keras.callbacks.callbacks.History at 0x7fcadd2639e8>"
            ]
          },
          "metadata": {
            "tags": []
          },
          "execution_count": 92
        }
      ]
    },
    {
      "cell_type": "code",
      "metadata": {
        "id": "Y6IJ07lvqdHq",
        "colab_type": "code",
        "colab": {
          "base_uri": "https://localhost:8080/",
          "height": 185
        },
        "outputId": "4e1641d6-8d7b-423c-97b6-57b50d2f7e53"
      },
      "source": [
        "y[:10]"
      ],
      "execution_count": 94,
      "outputs": [
        {
          "output_type": "execute_result",
          "data": {
            "text/plain": [
              "array([[23.88999939],\n",
              "       [23.82999992],\n",
              "       [21.95999908],\n",
              "       [19.20000076],\n",
              "       [16.11000061],\n",
              "       [15.80000019],\n",
              "       [17.45999908],\n",
              "       [17.39999962],\n",
              "       [17.04999924],\n",
              "       [18.13999939]])"
            ]
          },
          "metadata": {
            "tags": []
          },
          "execution_count": 94
        }
      ]
    },
    {
      "cell_type": "code",
      "metadata": {
        "id": "NP1HnCzqqvKW",
        "colab_type": "code",
        "colab": {
          "base_uri": "https://localhost:8080/",
          "height": 353
        },
        "outputId": "dbf5a94b-4ed0-4e0d-ebfc-64efd10eca3d"
      },
      "source": [
        "y[:20]"
      ],
      "execution_count": 95,
      "outputs": [
        {
          "output_type": "execute_result",
          "data": {
            "text/plain": [
              "array([[23.88999939],\n",
              "       [23.82999992],\n",
              "       [21.95999908],\n",
              "       [19.20000076],\n",
              "       [16.11000061],\n",
              "       [15.80000019],\n",
              "       [17.45999908],\n",
              "       [17.39999962],\n",
              "       [17.04999924],\n",
              "       [18.13999939],\n",
              "       [19.84000015],\n",
              "       [19.88999939],\n",
              "       [20.63999939],\n",
              "       [21.90999985],\n",
              "       [20.29999924],\n",
              "       [20.21999931],\n",
              "       [21.        ],\n",
              "       [21.29000092],\n",
              "       [20.95000076],\n",
              "       [20.54999924]])"
            ]
          },
          "metadata": {
            "tags": []
          },
          "execution_count": 95
        }
      ]
    },
    {
      "cell_type": "code",
      "metadata": {
        "id": "yMfuqXEArfdd",
        "colab_type": "code",
        "colab": {
          "base_uri": "https://localhost:8080/",
          "height": 84
        },
        "outputId": "03d796ee-0988-438f-d43c-f835a03a73c9"
      },
      "source": [
        "y[3:7]"
      ],
      "execution_count": 113,
      "outputs": [
        {
          "output_type": "execute_result",
          "data": {
            "text/plain": [
              "array([[19.20000076],\n",
              "       [16.11000061],\n",
              "       [15.80000019],\n",
              "       [17.45999908]])"
            ]
          },
          "metadata": {
            "tags": []
          },
          "execution_count": 113
        }
      ]
    },
    {
      "cell_type": "code",
      "metadata": {
        "id": "fYWy9V4HpvCY",
        "colab_type": "code",
        "colab": {}
      },
      "source": [
        "# demonstrate prediction\n",
        "x_input = array(y[3:6].flatten())\n",
        "x_input\n",
        "x_input = x_input.reshape((1, n_steps, n_features))\n"
      ],
      "execution_count": 114,
      "outputs": []
    },
    {
      "cell_type": "code",
      "metadata": {
        "id": "S3IlXP8PrRr4",
        "colab_type": "code",
        "colab": {}
      },
      "source": [
        "yhat = model.predict(x_input, verbose=0)"
      ],
      "execution_count": 115,
      "outputs": []
    },
    {
      "cell_type": "code",
      "metadata": {
        "id": "2lJvFXRkrTPk",
        "colab_type": "code",
        "colab": {
          "base_uri": "https://localhost:8080/",
          "height": 34
        },
        "outputId": "8354be8d-3fe8-48de-b943-0fbd10b903ef"
      },
      "source": [
        "yhat"
      ],
      "execution_count": 116,
      "outputs": [
        {
          "output_type": "execute_result",
          "data": {
            "text/plain": [
              "array([[16.011637]], dtype=float32)"
            ]
          },
          "metadata": {
            "tags": []
          },
          "execution_count": 116
        }
      ]
    },
    {
      "cell_type": "code",
      "metadata": {
        "id": "PA03zZgOrUGX",
        "colab_type": "code",
        "colab": {}
      },
      "source": [
        ""
      ],
      "execution_count": null,
      "outputs": []
    }
  ]
}